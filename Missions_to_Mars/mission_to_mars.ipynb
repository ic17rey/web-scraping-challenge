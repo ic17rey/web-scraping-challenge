{
 "cells": [
  {
   "cell_type": "markdown",
   "metadata": {},
   "source": [
    "## Mission to Mars - Webscraping Challenge"
   ]
  },
  {
   "cell_type": "code",
   "execution_count": 1,
   "metadata": {},
   "outputs": [],
   "source": [
    "# Dependencies \n",
    "import pandas as pd\n",
    "from splinter import Browser\n",
    "from webdriver_manager.chrome import ChromeDriverManager"
   ]
  },
  {
   "cell_type": "code",
   "execution_count": 2,
   "metadata": {},
   "outputs": [
    {
     "name": "stderr",
     "output_type": "stream",
     "text": [
      "\n",
      "\n",
      "====== WebDriver manager ======\n",
      "Current google-chrome version is 91.0.4472\n",
      "Get LATEST driver version for 91.0.4472\n",
      "Get LATEST driver version for 91.0.4472\n",
      "Trying to download new driver from https://chromedriver.storage.googleapis.com/91.0.4472.19/chromedriver_win32.zip\n",
      "Driver has been saved in cache [C:\\Users\\ic17r\\.wdm\\drivers\\chromedriver\\win32\\91.0.4472.19]\n"
     ]
    }
   ],
   "source": [
    "# Setup of splinter\n",
    "executable_path = {'executable_path': ChromeDriverManager().install()}\n",
    "browser = Browser('chrome', **executable_path, headless=False)"
   ]
  },
  {
   "cell_type": "markdown",
   "metadata": {},
   "source": [
    "### NASA Mars News\n",
    "\n",
    "* Scrape the [Mars News Site](https://redplanetscience.com/) to collect the latest News Title and Paragraph Text, assigning these to variables to reference later."
   ]
  },
  {
   "cell_type": "code",
   "execution_count": 3,
   "metadata": {},
   "outputs": [],
   "source": [
    "# Identify the website url to be visited\n",
    "browser.visit('https://redplanetscience.com/')\n",
    "\n",
    "# Scrape the webpage for the text for the first news item title, <div class='content_title'>\n",
    "news_title = browser.find_by_css('div.content_title').text\n",
    "\n",
    "# Scrape the webpage for the text for the first news item paragraph <div class='article_teaser_body'>\n",
    "news_p = browser.find_by_css('div.article_teaser_body').text "
   ]
  },
  {
   "cell_type": "code",
   "execution_count": 4,
   "metadata": {},
   "outputs": [
    {
     "data": {
      "text/plain": [
       "\"Celebrate Mars Reconnaissance Orbiter's Views From Above\""
      ]
     },
     "execution_count": 4,
     "metadata": {},
     "output_type": "execute_result"
    }
   ],
   "source": [
    "news_title"
   ]
  },
  {
   "cell_type": "code",
   "execution_count": 5,
   "metadata": {},
   "outputs": [
    {
     "data": {
      "text/plain": [
       "'Marking its 15th anniversary since launch, one of the oldest spacecraft at the Red Planet has provided glimpses of dust devils, avalanches, and more.'"
      ]
     },
     "execution_count": 5,
     "metadata": {},
     "output_type": "execute_result"
    }
   ],
   "source": [
    "news_p"
   ]
  },
  {
   "cell_type": "markdown",
   "metadata": {},
   "source": [
    "### JPL Mars Space Images - Featured Image\n",
    "\n",
    "* Visiting the url for the Featured Space Image site [here](https://spaceimages-mars.com), splinter is used to navigate the site and find the image url for the current Featured Mars Image. The url string is assigned to a variable called `featured_image_url`.  Desired url is for the full size `.jpg` image, and need the complete url string."
   ]
  },
  {
   "cell_type": "code",
   "execution_count": 6,
   "metadata": {},
   "outputs": [
    {
     "name": "stderr",
     "output_type": "stream",
     "text": [
      "C:\\Users\\ic17r\\anaconda3\\envs\\PythonData\\lib\\site-packages\\splinter\\driver\\webdriver\\__init__.py:493: FutureWarning: browser.find_link_by_partial_text is deprecated. Use browser.links.find_by_partial_text instead.\n",
      "  FutureWarning,\n"
     ]
    }
   ],
   "source": [
    "# Identify the website url to be visited\n",
    "browser.visit('https://spaceimages-mars.com/')\n",
    "\n",
    "# Click the button \"FULL IMAGE\" that displays the image \n",
    "browser.find_link_by_partial_text('FULL IMAGE').click()\n",
    "\n",
    "# Find then save the image to a variable (img class='fancybox-image' and src identifies the jpg)\n",
    "featured_image_url = browser.find_by_css('img.fancybox-image')['src']"
   ]
  },
  {
   "cell_type": "markdown",
   "metadata": {},
   "source": [
    "### Mars Facts\n",
    "\n",
    "* For the Mars Facts webpage [here](https://galaxyfacts-mars.com), Pandas is used to scrape the table containing facts about the planet including Diameter, Mass, etc. The results are converted to a HTML table string."
   ]
  },
  {
   "cell_type": "code",
   "execution_count": 7,
   "metadata": {},
   "outputs": [],
   "source": [
    "# Identify the website url to be visited and use pd.read_html to see the html\n",
    "mars_facts = pd.read_html('https://galaxyfacts-mars.com/')[0].to_html()"
   ]
  },
  {
   "cell_type": "code",
   "execution_count": 8,
   "metadata": {},
   "outputs": [
    {
     "data": {
      "text/plain": [
       "'<table border=\"1\" class=\"dataframe\">\\n  <thead>\\n    <tr style=\"text-align: right;\">\\n      <th></th>\\n      <th>0</th>\\n      <th>1</th>\\n      <th>2</th>\\n    </tr>\\n  </thead>\\n  <tbody>\\n    <tr>\\n      <th>0</th>\\n      <td>Mars - Earth Comparison</td>\\n      <td>Mars</td>\\n      <td>Earth</td>\\n    </tr>\\n    <tr>\\n      <th>1</th>\\n      <td>Diameter:</td>\\n      <td>6,779 km</td>\\n      <td>12,742 km</td>\\n    </tr>\\n    <tr>\\n      <th>2</th>\\n      <td>Mass:</td>\\n      <td>6.39 × 10^23 kg</td>\\n      <td>5.97 × 10^24 kg</td>\\n    </tr>\\n    <tr>\\n      <th>3</th>\\n      <td>Moons:</td>\\n      <td>2</td>\\n      <td>1</td>\\n    </tr>\\n    <tr>\\n      <th>4</th>\\n      <td>Distance from Sun:</td>\\n      <td>227,943,824 km</td>\\n      <td>149,598,262 km</td>\\n    </tr>\\n    <tr>\\n      <th>5</th>\\n      <td>Length of Year:</td>\\n      <td>687 Earth days</td>\\n      <td>365.24 days</td>\\n    </tr>\\n    <tr>\\n      <th>6</th>\\n      <td>Temperature:</td>\\n      <td>-87 to -5 °C</td>\\n      <td>-88 to 58°C</td>\\n    </tr>\\n  </tbody>\\n</table>'"
      ]
     },
     "execution_count": 8,
     "metadata": {},
     "output_type": "execute_result"
    }
   ],
   "source": [
    "mars_facts"
   ]
  },
  {
   "cell_type": "markdown",
   "metadata": {},
   "source": [
    "### Mars Hemispheres\n",
    "\n",
    "* Visit the astrogeology site [here](https://marshemispheres.com/) to obtain high resolution images for each of Mar's hemispheres.\n",
    "\n",
    "* You will need to click each of the links to the hemispheres in order to find the image url to the full resolution image.\n",
    "\n",
    "* Save both the image url string for the full resolution hemisphere image, and the Hemisphere title containing the hemisphere name. Use a Python dictionary to store the data using the keys `img_url` and `title`.\n",
    "\n",
    "* Append the dictionary with the image url string and the hemisphere title to a list. This list will contain one dictionary for each hemisphere.\n",
    "\n",
    "##### Example:\n",
    "hemisphere_image_urls = [\n",
    "    {\"title\": \"Valles Marineris Hemisphere\", \"img_url\": \"...\"},  \n",
    "            {\"title\": \"Cerberus Hemisphere\", \"img_url\": \"...\"},  \n",
    "            {\"title\": \"Schiaparelli Hemisphere\", \"img_url\": \"...\"},  \n",
    "            {\"title\": \"Syrtis Major Hemisphere\", \"img_url\": \"...\"},  \n",
    "]"
   ]
  },
  {
   "cell_type": "code",
   "execution_count": 17,
   "metadata": {},
   "outputs": [],
   "source": [
    "# Identify the website url to be visited\n",
    "browser.visit('https://marshemispheres.com/')\n",
    "\n",
    "# Create a dictionary to store the results\n",
    "hemispheres_image_urls = []\n",
    "# Set up a for loop that will happen four times (one for each hemisphere link)\n",
    "for x in range(0, 4):\n",
    "    \n",
    "    # Click the links that lead to the full image \n",
    "    browser.find_link_by_partial_text('Enhanced')[x].click()\n",
    "    \n",
    "    # Find and save all the titles and urls to the full resolution images (Sample links)\n",
    "    hemisphere_name = browser.find_by_css('h2.title').text\n",
    "    \n",
    "    # WANT TO FIGURE OUT IF I CAN COMBINE THESE TWO LINES:\n",
    "    img_object = browser.find_link_by_text('Sample').first\n",
    "    img_url = img_object['href']\n",
    "    hemispheres_dict = {\"title\":hemisphere_name, 'img_url':img_url}\n",
    "    hemispheres_image_urls.append(hemispheres_dict)\n",
    "    browser.back()   "
   ]
  },
  {
   "cell_type": "code",
   "execution_count": 20,
   "metadata": {},
   "outputs": [
    {
     "name": "stdout",
     "output_type": "stream",
     "text": [
      "[{'title': 'Cerberus Hemisphere Enhanced', 'img_url': 'https://marshemispheres.com/images/full.jpg'}, {'title': 'Schiaparelli Hemisphere Enhanced', 'img_url': 'https://marshemispheres.com/images/schiaparelli_enhanced-full.jpg'}, {'title': 'Syrtis Major Hemisphere Enhanced', 'img_url': 'https://marshemispheres.com/images/syrtis_major_enhanced-full.jpg'}, {'title': 'Valles Marineris Hemisphere Enhanced', 'img_url': 'https://marshemispheres.com/images/valles_marineris_enhanced-full.jpg'}]\n"
     ]
    }
   ],
   "source": [
    "# Identify the website url to be visited\n",
    "browser.visit('https://marshemispheres.com/')\n",
    "\n",
    "# Create a dictionary to store the results\n",
    "hemispheres_image_urls = []\n",
    "# Set up a for loop that will happen four times (one for each hemisphere link)\n",
    "for x in range(0, 4):\n",
    "    \n",
    "    # Click the links that lead to the full image \n",
    "    browser.find_link_by_partial_text('Enhanced')[x].click()\n",
    "    \n",
    "    # Find and save all the titles and urls to the full resolution images (Sample links)\n",
    "    hemisphere_name = browser.find_by_css('h2.title').text\n",
    "    img_url = browser.find_link_by_text('Sample')['href']\n",
    "    hemispheres_dict = {\"title\":hemisphere_name, 'img_url':img_url}\n",
    "    hemispheres_image_urls.append(hemispheres_dict)\n",
    "    browser.back()   \n",
    "    \n",
    "print(hemispheres_image_urls)"
   ]
  },
  {
   "cell_type": "code",
   "execution_count": 18,
   "metadata": {},
   "outputs": [
    {
     "name": "stdout",
     "output_type": "stream",
     "text": [
      "[{'title': 'Cerberus Hemisphere Enhanced', 'img_url': 'https://marshemispheres.com/images/full.jpg'}, {'title': 'Schiaparelli Hemisphere Enhanced', 'img_url': 'https://marshemispheres.com/images/schiaparelli_enhanced-full.jpg'}, {'title': 'Syrtis Major Hemisphere Enhanced', 'img_url': 'https://marshemispheres.com/images/syrtis_major_enhanced-full.jpg'}, {'title': 'Valles Marineris Hemisphere Enhanced', 'img_url': 'https://marshemispheres.com/images/valles_marineris_enhanced-full.jpg'}]\n"
     ]
    }
   ],
   "source": [
    "print(hemispheres_image_urls)"
   ]
  },
  {
   "cell_type": "code",
   "execution_count": 12,
   "metadata": {},
   "outputs": [
    {
     "name": "stdout",
     "output_type": "stream",
     "text": [
      "Cerberus Hemisphere Enhanced\n",
      "https://marshemispheres.com/images/39d3266553462198bd2fbc4d18fbed17_cerberus_enhanced.tif_thumb.png\n",
      "Schiaparelli Hemisphere Enhanced\n",
      "https://marshemispheres.com/images/08eac6e22c07fb1fe72223a79252de20_schiaparelli_enhanced.tif_thumb.png\n",
      "Syrtis Major Hemisphere Enhanced\n",
      "https://marshemispheres.com/images/55a0a1e2796313fdeafb17c35925e8ac_syrtis_major_enhanced.tif_thumb.png\n",
      "Valles Marineris Hemisphere Enhanced\n",
      "https://marshemispheres.com/images/4e59980c1c57f89c680c0e1ccabbeff1_valles_marineris_enhanced.tif_thumb.png\n"
     ]
    }
   ],
   "source": [
    "# Identify the website url to be visited\n",
    "browser.visit('https://marshemispheres.com/')\n",
    "\n",
    "hemispheres_image_urls = []\n",
    "# Set up a for loop that will happen four times (one for each hemisphere link)\n",
    "for x in range(0, 4):\n",
    "    \n",
    "# Click the links that display the image \n",
    "    browser.find_link_by_partial_text('Enhanced')[x].click()\n",
    "    hemisphere_name = browser.find_by_css('h2.title').text\n",
    "    img_url = browser.find_by_css('img.thumb')['src']\n",
    "    print(hemisphere_name)\n",
    "    print(img_url)\n",
    "    hemispheres_dict = {\"title\":hemisphere_name, 'img_url':img_url}\n",
    "    hemispheres_image_urls.append(hemispheres_dict)\n",
    "    browser.back()\n"
   ]
  },
  {
   "cell_type": "code",
   "execution_count": null,
   "metadata": {},
   "outputs": [],
   "source": []
  },
  {
   "cell_type": "code",
   "execution_count": null,
   "metadata": {},
   "outputs": [],
   "source": [
    "browser.quit()"
   ]
  },
  {
   "cell_type": "code",
   "execution_count": 11,
   "metadata": {},
   "outputs": [
    {
     "data": {
      "text/plain": [
       "{'Latest Mars News': \"Celebrate Mars Reconnaissance Orbiter's Views From Above\",\n",
       " 'Latest News Paragraph': 'Marking its 15th anniversary since launch, one of the oldest spacecraft at the Red Planet has provided glimpses of dust devils, avalanches, and more.',\n",
       " 'Featured Mars Image': 'https://spaceimages-mars.com/image/featured/mars2.jpg',\n",
       " 'Mars Facts': '<table border=\"1\" class=\"dataframe\">\\n  <thead>\\n    <tr style=\"text-align: right;\">\\n      <th></th>\\n      <th>0</th>\\n      <th>1</th>\\n      <th>2</th>\\n    </tr>\\n  </thead>\\n  <tbody>\\n    <tr>\\n      <th>0</th>\\n      <td>Mars - Earth Comparison</td>\\n      <td>Mars</td>\\n      <td>Earth</td>\\n    </tr>\\n    <tr>\\n      <th>1</th>\\n      <td>Diameter:</td>\\n      <td>6,779 km</td>\\n      <td>12,742 km</td>\\n    </tr>\\n    <tr>\\n      <th>2</th>\\n      <td>Mass:</td>\\n      <td>6.39 × 10^23 kg</td>\\n      <td>5.97 × 10^24 kg</td>\\n    </tr>\\n    <tr>\\n      <th>3</th>\\n      <td>Moons:</td>\\n      <td>2</td>\\n      <td>1</td>\\n    </tr>\\n    <tr>\\n      <th>4</th>\\n      <td>Distance from Sun:</td>\\n      <td>227,943,824 km</td>\\n      <td>149,598,262 km</td>\\n    </tr>\\n    <tr>\\n      <th>5</th>\\n      <td>Length of Year:</td>\\n      <td>687 Earth days</td>\\n      <td>365.24 days</td>\\n    </tr>\\n    <tr>\\n      <th>6</th>\\n      <td>Temperature:</td>\\n      <td>-87 to -5 °C</td>\\n      <td>-88 to 58°C</td>\\n    </tr>\\n  </tbody>\\n</table>',\n",
       " 'Mars Hemispheres': [{'title': 'Cerberus Hemisphere Enhanced',\n",
       "   'img_url': <splinter.driver.webdriver.WebDriverElement at 0x18bd2959470>},\n",
       "  {'title': 'Schiaparelli Hemisphere Enhanced',\n",
       "   'img_url': <splinter.driver.webdriver.WebDriverElement at 0x18bce5003c8>},\n",
       "  {'title': 'Syrtis Major Hemisphere Enhanced',\n",
       "   'img_url': <splinter.driver.webdriver.WebDriverElement at 0x18bd2959860>},\n",
       "  {'title': 'Valles Marineris Hemisphere Enhanced',\n",
       "   'img_url': <splinter.driver.webdriver.WebDriverElement at 0x18bd2959208>}]}"
      ]
     },
     "execution_count": 11,
     "metadata": {},
     "output_type": "execute_result"
    }
   ],
   "source": [
    "variables_dict = {\n",
    "    'Latest Mars News':news_title,\n",
    "    'Latest News Paragraph':news_p,\n",
    "    'Featured Mars Image':featured_image_url,\n",
    "    'Mars Facts':mars_facts,\n",
    "    'Mars Hemispheres':hemispheres_image_urls\n",
    "}\n",
    "variables_dict "
   ]
  },
  {
   "cell_type": "code",
   "execution_count": null,
   "metadata": {},
   "outputs": [],
   "source": [
    "variables_d = (\n",
    "    news_title,\n",
    "    news_p,\n",
    "    featured_image_url,\n",
    "    mars_facts,\n",
    "    hemispheres_image_urls\n",
    ")\n",
    "variables_d"
   ]
  },
  {
   "cell_type": "code",
   "execution_count": null,
   "metadata": {},
   "outputs": [],
   "source": []
  }
 ],
 "metadata": {
  "kernelspec": {
   "display_name": "PythonData",
   "language": "python",
   "name": "pythondata"
  },
  "language_info": {
   "codemirror_mode": {
    "name": "ipython",
    "version": 3
   },
   "file_extension": ".py",
   "mimetype": "text/x-python",
   "name": "python",
   "nbconvert_exporter": "python",
   "pygments_lexer": "ipython3",
   "version": "3.6.10"
  }
 },
 "nbformat": 4,
 "nbformat_minor": 4
}
